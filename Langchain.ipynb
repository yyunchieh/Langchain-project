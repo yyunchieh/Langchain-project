{
 "cells": [
  {
   "cell_type": "code",
   "execution_count": null,
   "metadata": {},
   "outputs": [],
   "source": [
    "import os\n",
    "from langchain.llms import OpenAI\n",
    "from langchain.chains import LLMChain\n",
    "from langchain.prompts import PromptTemplate\n",
    "\n",
    "os.environ[\"LANGCHAIN_TRACING_V2\"] = \"true\"\n",
    "\n",
    "os.environ[\"LANGCHAIN_ENDPOINT\"] = \"https://api.smith.langchain.com\"\n",
    "\n",
    "file_path = r\"C:\\Users\\4019-tjyen\\Desktop\\Langsmith.txt\"\n",
    "\n",
    "\n",
    "with open(file_path,\"r\") as file:\n",
    "    Langsmith_key = file.read().strip()\n",
    "    os.environ[\"LANGSMITH_API_KEY\"] = Langsmith_key"
   ]
  },
  {
   "cell_type": "code",
   "execution_count": null,
   "metadata": {},
   "outputs": [],
   "source": [
    "API_path = r\"C:\\Users\\4019-tjyen\\Desktop\\API.txt\"\n",
    "with open(API_path,\"r\") as file:\n",
    "    openapi_key = file.read().strip()\n",
    "    \n",
    "os.environ['OPENAI_API_KEY'] = openapi_key"
   ]
  },
  {
   "cell_type": "code",
   "execution_count": null,
   "metadata": {},
   "outputs": [],
   "source": [
    "from langchain.llms import OpenAI\n",
    "\n",
    "llm = OpenAI(openai_api_key=openapi_key, model=\"gpt-4\", temperature=0.6)\n",
    "\n",
    "# Chain 1 Describe the process\n",
    "pipeline = PromptTemplate(\n",
    "    input_variables = [\"function\"], template = \"\"\"\n",
    "    You are an expert software engineer. Describe the complete process for implementing a {function}.\n",
    "    Include detailed steps such as data preprocessing, model selection, evaluation, and inderence.\n",
    "    Provide concise and clear descriptions for each steps.\n",
    "    \"\"\")\n",
    "\n",
    "pipeline_chain = LLMChain(llm=llm, prompt=pipeline, output_key=\"process_steps\")\n",
    "\n",
    "# Chain 2 Coding \n",
    "template_code = PromptTemplate(\n",
    "    input_variables = [\"process\"],\n",
    "    template=\"\"\"\n",
    "    As a software engineer, generate a complete Python template for the following process:\n",
    "    {process}\n",
    "    Make sure include:\n",
    "    1. Necessary library imports.\n",
    "    2. Functions for data preprocessing, model training, evaluation, and inference.\n",
    "    \"\"\"\n",
    ")\n",
    "\n",
    "code_chain = LLMChain(llm=llm, prompt=template_code, input_keys=\"process_steps\", output_keys=\"template_code\")\n",
    "\n",
    "# Combine the chains\n",
    "chain = SequentialChain(chains=[pipeline_chain, code_chain], input_variables[\"function\"], output_variables=[\"template_code\"])\n",
    "\n",
    "# Run and print result\n",
    "response = chain.run({\"function\": \"machine learning code\"})\n",
    "print(response[\"template_code\"])"
   ]
  }
 ],
 "metadata": {
  "kernelspec": {
   "display_name": "base",
   "language": "python",
   "name": "python3"
  },
  "language_info": {
   "codemirror_mode": {
    "name": "ipython",
    "version": 3
   },
   "file_extension": ".py",
   "mimetype": "text/x-python",
   "name": "python",
   "nbconvert_exporter": "python",
   "pygments_lexer": "ipython3",
   "version": "3.12.3"
  }
 },
 "nbformat": 4,
 "nbformat_minor": 2
}
