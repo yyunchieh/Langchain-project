{
 "cells": [
  {
   "cell_type": "code",
   "execution_count": 15,
   "metadata": {},
   "outputs": [],
   "source": [
    "import os\n",
    "from langchain.llms import OpenAI\n",
    "\n",
    "os.environ[\"LANGCHAIN_TRACING_V2\"] = \"true\"\n",
    "\n",
    "os.environ[\"LANGCHAIN_ENDPOINT\"] = \"https://api.smith.langchain.com\"\n",
    "\n",
    "with open(\"Langsmith.txt\",\"r\") as file:\n",
    "    Langsmith_key = file.read().strip()\n",
    "os.environ[\"LANGSMITH_API_KEY\"] = Langsmith_key\n"
   ]
  },
  {
   "cell_type": "code",
   "execution_count": 16,
   "metadata": {},
   "outputs": [],
   "source": [
    "with open(\"API.txt\",\"r\") as file:\n",
    "    openapi_key = file.read().strip()\n",
    "    \n",
    "os.environ['OPENAI_API_KEY'] = openapi_key"
   ]
  },
  {
   "cell_type": "code",
   "execution_count": 17,
   "metadata": {},
   "outputs": [
    {
     "name": "stdout",
     "output_type": "stream",
     "text": [
      "\n",
      "\n",
      "# Import necessary libraries\n",
      "import pandas as pd\n",
      "import numpy as np\n",
      "from sklearn.preprocessing import StandardScaler\n",
      "from sklearn.model_selection import train_test_split\n",
      "from sklearn.model_selection import GridSearchCV\n",
      "from sklearn.metrics import accuracy_score, precision_score, recall_score, f1_score\n",
      "from sklearn.model_selection import cross_val_score\n",
      "from sklearn.pipeline import Pipeline\n",
      "\n",
      "# Load dataset\n",
      "dataset = pd.read_csv(\"data.csv\")\n",
      "\n",
      "# Split dataset into features and target variable\n",
      "X = dataset.drop('target', axis=1)\n",
      "y = dataset['target']\n",
      "\n",
      "# Split data into train and test sets\n",
      "X_train, X_test, y_train, y_test = train_test_split(X, y, test_size=0.2, random_state=42)\n",
      "\n",
      "# Define preprocessing steps\n",
      "scaler = StandardScaler()\n",
      "\n",
      "# Define models\n",
      "model1 = Model1()\n",
      "model2 = Model2()\n",
      "model3 = Model3()\n",
      "\n",
      "# Define hyperparameter grids for each model\n",
      "params_model1 = {'param1': [1, 5, 10],\n",
      "                 'param2': [0.1, 0.5, 1.0]}\n",
      "params_model2 = {'param1': [0.01, 0.1, 1.0],\n",
      "                 '\n"
     ]
    }
   ],
   "source": [
    "from langchain.llms import OpenAI\n",
    "\n",
    "llm = OpenAI(openai_api_key=openapi_key, temperature=0.6)\n",
    "pipeline = llm(\"Please generate a template code for machine learning pipeline, including data pre-processing, models, training, inference, evaluation, and result presentation.\")\n",
    "print(pipeline)"
   ]
  },
  {
   "cell_type": "code",
   "execution_count": null,
   "metadata": {},
   "outputs": [],
   "source": []
  }
 ],
 "metadata": {
  "kernelspec": {
   "display_name": "base",
   "language": "python",
   "name": "python3"
  },
  "language_info": {
   "codemirror_mode": {
    "name": "ipython",
    "version": 3
   },
   "file_extension": ".py",
   "mimetype": "text/x-python",
   "name": "python",
   "nbconvert_exporter": "python",
   "pygments_lexer": "ipython3",
   "version": "3.12.3"
  }
 },
 "nbformat": 4,
 "nbformat_minor": 2
}
