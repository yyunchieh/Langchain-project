{
 "cells": [
  {
   "cell_type": "code",
   "execution_count": 9,
   "metadata": {},
   "outputs": [],
   "source": [
    "import os\n",
    "from langchain.llms import OpenAI\n",
    "from langchain.chains import LLMChain, SequentialChain\n",
    "from langchain.prompts import PromptTemplate\n",
    "from langchain.chat_models import ChatOpenAI\n",
    "#from langchain_community.tools.langsmith import LangSmith\n",
    "\n",
    "os.environ[\"LANGCHAIN_TRACING_V2\"] = \"true\"\n",
    "os.environ[\"LANGCHAIN_ENDPOINT\"] = \"https://api.smith.langchain.com\"\n",
    "\n",
    "file_path = r\"C:\\Users\\4019-tjyen\\Desktop\\Langsmith.txt\"\n",
    "with open(file_path,\"r\") as file:\n",
    "    Langsmith_key = file.read().strip()\n",
    "    os.environ[\"LANGSMITH_API_KEY\"] = Langsmith_key"
   ]
  },
  {
   "cell_type": "code",
   "execution_count": 10,
   "metadata": {},
   "outputs": [],
   "source": [
    "API_path = r\"C:\\Users\\4019-tjyen\\Desktop\\API.txt\"\n",
    "with open(API_path,\"r\") as file:\n",
    "    openapi_key = file.read().strip()\n",
    "    \n",
    "os.environ['OPENAI_API_KEY'] = openapi_key"
   ]
  },
  {
   "cell_type": "code",
   "execution_count": 13,
   "metadata": {},
   "outputs": [
    {
     "name": "stdout",
     "output_type": "stream",
     "text": [
      "\n",
      "# Necessary Library Imports:\n",
      "import pandas as pd\n",
      "import numpy as np\n",
      "from sklearn.model_selection import train_test_split\n",
      "from sklearn.preprocessing import StandardScaler\n",
      "from sklearn.linear_model import LinearRegression\n",
      "from sklearn.metrics import mean_squared_error, r2_score\n",
      "\n",
      "# Functions for Data Preprocessing:\n",
      "def preprocess_data(data):\n",
      "    # Remove missing values\n",
      "    data = data.dropna()\n",
      "    # Handle outliers\n",
      "    data = data[(data['column'] >= lower_limit) & (data['column'] <= upper_limit)]\n",
      "    # Convert categorical data to numerical\n",
      "    data = pd.get_dummies(data)\n",
      "    return data\n",
      "    \n",
      "# Function for Model Selection:\n",
      "def select_model(data, target):\n",
      "    # Split data into training and testing sets\n",
      "    X_train, X_test, y_train, y_test = train_test_split(data, target, test_size=0.2, random_state=42)\n",
      "    # Scale the data\n",
      "    scaler = StandardScaler()\n",
      "    X_train = scaler.fit_transform(X_train)\n",
      "    X_test = scaler.transform(X_test)\n",
      "    # Select a suitable model\n",
      "    model = LinearRegression()\n",
      "    return model, X_train, X_test, y_train, y_test\n",
      "    \n",
      "# Function for Model Training:\n",
      "def train_model(model, X_train, y\n"
     ]
    }
   ],
   "source": [
    "llm = OpenAI(openai_api_key=openapi_key, temperature=0.6)\n",
    "\n",
    "# Chain 1 Describe the process\n",
    "pipeline = PromptTemplate(\n",
    "    input_variables = [\"function\"], \n",
    "    template = \"\"\"\n",
    "    You are an expert software engineer. Describe the complete process for implementing a {function}.\n",
    "    Include detailed steps such as data preprocessing, model selection, evaluation, and inderence.\n",
    "    Provide concise and clear descriptions for each step.\n",
    "    \"\"\"\n",
    "    )\n",
    "\n",
    "pipeline_chain = LLMChain(llm=llm, prompt=pipeline, output_key=\"process_steps\")\n",
    "\n",
    "# Chain 2 Generate template Code \n",
    "template_code = PromptTemplate(\n",
    "    input_variables = [\"process_steps\"],\n",
    "    template=\"\"\"\n",
    "    As a software engineer, generate a complete Python template for the following process:\n",
    "    {process_steps}\n",
    "    Make sure to include:\n",
    "    1. Necessary library imports.\n",
    "    2. Functions for data preprocessing, model training, evaluation, and inference.\n",
    "    \"\"\"\n",
    "    )\n",
    "\n",
    "code_chain = LLMChain(llm=llm, prompt=template_code, output_key=\"template_code\")\n",
    "\n",
    "# Combine the chains\n",
    "chain = SequentialChain(\n",
    "    chains=[pipeline_chain, code_chain], \n",
    "    input_variables=[\"function\"], \n",
    "    output_variables=[\"template_code\"]\n",
    "    )\n",
    "\n",
    "# Run and print result\n",
    "response = chain.run({\"function\": \"machine learning code\"})\n",
    "print(response)"
   ]
  }
 ],
 "metadata": {
  "kernelspec": {
   "display_name": "base",
   "language": "python",
   "name": "python3"
  },
  "language_info": {
   "codemirror_mode": {
    "name": "ipython",
    "version": 3
   },
   "file_extension": ".py",
   "mimetype": "text/x-python",
   "name": "python",
   "nbconvert_exporter": "python",
   "pygments_lexer": "ipython3",
   "version": "3.12.3"
  }
 },
 "nbformat": 4,
 "nbformat_minor": 2
}
